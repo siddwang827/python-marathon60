{
 "cells": [
  {
   "cell_type": "markdown",
   "id": "considerable-hollow",
   "metadata": {},
   "source": [
    "作業目標\n",
    "\n",
    "熟悉陣列維度轉換，並且會擷取需要資料\n",
    "\n",
    "作業重點\n",
    "\n",
    "使用reshap須注意order用法\n",
    "\n",
    "where可以運用邏輯條件擷取資料 \n",
    "\n",
    "\n",
    "題目:\n",
    "1. 將下列陣列(array1)，轉成維度為(5X6)的array，順序按列填充。(hint:order=\"F\")\n",
    "2. 呈上題的array，找出被6除餘1的數的索引"
   ]
  },
  {
   "cell_type": "code",
   "execution_count": 44,
   "id": "antique-cooperation",
   "metadata": {},
   "outputs": [],
   "source": [
    "import numpy as np"
   ]
  },
  {
   "cell_type": "code",
   "execution_count": 46,
   "id": "painted-divide",
   "metadata": {},
   "outputs": [],
   "source": [
    "#1.將下列清單(list1)，轉成維度為(5X6)的array，順序按列填充。(hint:order=\"F\")\n",
    "array1 = np.array(range(30))"
   ]
  },
  {
   "cell_type": "code",
   "execution_count": 47,
   "id": "higher-repeat",
   "metadata": {},
   "outputs": [],
   "source": [
    "#2.呈上題的array，找出被6除餘1的數的索引"
   ]
  },
  {
   "cell_type": "code",
   "execution_count": 48,
   "id": "regional-hospital",
   "metadata": {},
   "outputs": [],
   "source": [
    "b = np.reshape(array1,(5, 6), order=\"F\")"
   ]
  },
  {
   "cell_type": "code",
   "execution_count": 49,
   "id": "distributed-decrease",
   "metadata": {},
   "outputs": [
    {
     "data": {
      "text/plain": [
       "array([[ 0,  5, 10, 15, 20, 25],\n",
       "       [ 1,  6, 11, 16, 21, 26],\n",
       "       [ 2,  7, 12, 17, 22, 27],\n",
       "       [ 3,  8, 13, 18, 23, 28],\n",
       "       [ 4,  9, 14, 19, 24, 29]])"
      ]
     },
     "execution_count": 49,
     "metadata": {},
     "output_type": "execute_result"
    }
   ],
   "source": [
    "b"
   ]
  },
  {
   "cell_type": "code",
   "execution_count": 50,
   "id": "electrical-store",
   "metadata": {
    "scrolled": true
   },
   "outputs": [
    {
     "data": {
      "text/plain": [
       "(array([0, 1, 2, 3, 4], dtype=int64), array([5, 0, 1, 2, 3], dtype=int64))"
      ]
     },
     "execution_count": 50,
     "metadata": {},
     "output_type": "execute_result"
    }
   ],
   "source": [
    "np.nonzero(np.where(b % 6 == 1,1,0))"
   ]
  },
  {
   "cell_type": "markdown",
   "id": "hindu-diving",
   "metadata": {},
   "source": [
    "如果不另設變數b, array1 reshape後資料在記憶體中仍以一維方式存放，順序不變"
   ]
  },
  {
   "cell_type": "code",
   "execution_count": 51,
   "id": "continuing-welding",
   "metadata": {},
   "outputs": [
    {
     "data": {
      "text/plain": [
       "array([[ 0,  5, 10, 15, 20, 25],\n",
       "       [ 1,  6, 11, 16, 21, 26],\n",
       "       [ 2,  7, 12, 17, 22, 27],\n",
       "       [ 3,  8, 13, 18, 23, 28],\n",
       "       [ 4,  9, 14, 19, 24, 29]])"
      ]
     },
     "execution_count": 51,
     "metadata": {},
     "output_type": "execute_result"
    }
   ],
   "source": [
    "np.reshape(array1, (5, 6), order=\"F\")"
   ]
  },
  {
   "cell_type": "code",
   "execution_count": 52,
   "id": "round-mathematics",
   "metadata": {},
   "outputs": [
    {
     "data": {
      "text/plain": [
       "(array([ 1,  7, 13, 19, 25], dtype=int64),)"
      ]
     },
     "execution_count": 52,
     "metadata": {},
     "output_type": "execute_result"
    }
   ],
   "source": [
    "np.nonzero(np.where(array1 % 6 == 1,1,0))"
   ]
  },
  {
   "cell_type": "code",
   "execution_count": null,
   "id": "maritime-style",
   "metadata": {},
   "outputs": [],
   "source": []
  },
  {
   "cell_type": "code",
   "execution_count": null,
   "id": "cooked-ticket",
   "metadata": {},
   "outputs": [],
   "source": []
  },
  {
   "cell_type": "code",
   "execution_count": null,
   "id": "employed-cincinnati",
   "metadata": {},
   "outputs": [],
   "source": []
  }
 ],
 "metadata": {
  "kernelspec": {
   "display_name": "Python 3",
   "language": "python",
   "name": "python3"
  },
  "language_info": {
   "codemirror_mode": {
    "name": "ipython",
    "version": 3
   },
   "file_extension": ".py",
   "mimetype": "text/x-python",
   "name": "python",
   "nbconvert_exporter": "python",
   "pygments_lexer": "ipython3",
   "version": "3.8.3"
  }
 },
 "nbformat": 4,
 "nbformat_minor": 5
}
